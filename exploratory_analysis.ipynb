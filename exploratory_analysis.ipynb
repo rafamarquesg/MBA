{
 "cells": [
  {
   "cell_type": "markdown",
   "metadata": {},
   "source": [
    "# Análise Exploratória - NUVE Violence Detection\n",
    "## Frequência de termos"
   ]
  },
  {
   "cell_type": "code",
   "metadata": {},
   "source": [
    "import pandas as pd\n",
    "df = pd.read_csv('data/sample/example_output.csv')\n",
    "df['categoria'].value_counts().plot(kind='bar')"
   ]
  }
 ],
 "metadata": {},
 "nbformat": 4,
 "nbformat_minor": 2
}